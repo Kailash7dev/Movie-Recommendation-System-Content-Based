{
 "cells": [
  {
   "cell_type": "code",
   "execution_count": 1,
   "metadata": {},
   "outputs": [],
   "source": [
    "import pandas as pd\n",
    "import numpy as np\n",
    "import warnings\n",
    "\n",
    "warnings.filterwarnings('ignore','DeprecationWarning')"
   ]
  },
  {
   "cell_type": "code",
   "execution_count": 2,
   "metadata": {},
   "outputs": [],
   "source": [
    "movies_df = pd.read_csv('//home/kailash/Learning/Data Science/Projects/Movie Recommendation System/movielens dataset/movies.csv')"
   ]
  },
  {
   "cell_type": "code",
   "execution_count": 3,
   "metadata": {},
   "outputs": [
    {
     "data": {
      "text/html": [
       "<div>\n",
       "<style scoped>\n",
       "    .dataframe tbody tr th:only-of-type {\n",
       "        vertical-align: middle;\n",
       "    }\n",
       "\n",
       "    .dataframe tbody tr th {\n",
       "        vertical-align: top;\n",
       "    }\n",
       "\n",
       "    .dataframe thead th {\n",
       "        text-align: right;\n",
       "    }\n",
       "</style>\n",
       "<table border=\"1\" class=\"dataframe\">\n",
       "  <thead>\n",
       "    <tr style=\"text-align: right;\">\n",
       "      <th></th>\n",
       "      <th>movieId</th>\n",
       "      <th>title</th>\n",
       "      <th>genres</th>\n",
       "    </tr>\n",
       "  </thead>\n",
       "  <tbody>\n",
       "    <tr>\n",
       "      <th>0</th>\n",
       "      <td>1</td>\n",
       "      <td>Toy Story (1995)</td>\n",
       "      <td>Adventure|Animation|Children|Comedy|Fantasy</td>\n",
       "    </tr>\n",
       "    <tr>\n",
       "      <th>1</th>\n",
       "      <td>2</td>\n",
       "      <td>Jumanji (1995)</td>\n",
       "      <td>Adventure|Children|Fantasy</td>\n",
       "    </tr>\n",
       "    <tr>\n",
       "      <th>2</th>\n",
       "      <td>3</td>\n",
       "      <td>Grumpier Old Men (1995)</td>\n",
       "      <td>Comedy|Romance</td>\n",
       "    </tr>\n",
       "    <tr>\n",
       "      <th>3</th>\n",
       "      <td>4</td>\n",
       "      <td>Waiting to Exhale (1995)</td>\n",
       "      <td>Comedy|Drama|Romance</td>\n",
       "    </tr>\n",
       "    <tr>\n",
       "      <th>4</th>\n",
       "      <td>5</td>\n",
       "      <td>Father of the Bride Part II (1995)</td>\n",
       "      <td>Comedy</td>\n",
       "    </tr>\n",
       "    <tr>\n",
       "      <th>5</th>\n",
       "      <td>6</td>\n",
       "      <td>Heat (1995)</td>\n",
       "      <td>Action|Crime|Thriller</td>\n",
       "    </tr>\n",
       "    <tr>\n",
       "      <th>6</th>\n",
       "      <td>7</td>\n",
       "      <td>Sabrina (1995)</td>\n",
       "      <td>Comedy|Romance</td>\n",
       "    </tr>\n",
       "    <tr>\n",
       "      <th>7</th>\n",
       "      <td>8</td>\n",
       "      <td>Tom and Huck (1995)</td>\n",
       "      <td>Adventure|Children</td>\n",
       "    </tr>\n",
       "    <tr>\n",
       "      <th>8</th>\n",
       "      <td>9</td>\n",
       "      <td>Sudden Death (1995)</td>\n",
       "      <td>Action</td>\n",
       "    </tr>\n",
       "    <tr>\n",
       "      <th>9</th>\n",
       "      <td>10</td>\n",
       "      <td>GoldenEye (1995)</td>\n",
       "      <td>Action|Adventure|Thriller</td>\n",
       "    </tr>\n",
       "  </tbody>\n",
       "</table>\n",
       "</div>"
      ],
      "text/plain": [
       "   movieId                               title  \\\n",
       "0        1                    Toy Story (1995)   \n",
       "1        2                      Jumanji (1995)   \n",
       "2        3             Grumpier Old Men (1995)   \n",
       "3        4            Waiting to Exhale (1995)   \n",
       "4        5  Father of the Bride Part II (1995)   \n",
       "5        6                         Heat (1995)   \n",
       "6        7                      Sabrina (1995)   \n",
       "7        8                 Tom and Huck (1995)   \n",
       "8        9                 Sudden Death (1995)   \n",
       "9       10                    GoldenEye (1995)   \n",
       "\n",
       "                                        genres  \n",
       "0  Adventure|Animation|Children|Comedy|Fantasy  \n",
       "1                   Adventure|Children|Fantasy  \n",
       "2                               Comedy|Romance  \n",
       "3                         Comedy|Drama|Romance  \n",
       "4                                       Comedy  \n",
       "5                        Action|Crime|Thriller  \n",
       "6                               Comedy|Romance  \n",
       "7                           Adventure|Children  \n",
       "8                                       Action  \n",
       "9                    Action|Adventure|Thriller  "
      ]
     },
     "execution_count": 3,
     "metadata": {},
     "output_type": "execute_result"
    }
   ],
   "source": [
    "movies_df.head(10)"
   ]
  },
  {
   "cell_type": "code",
   "execution_count": 4,
   "metadata": {},
   "outputs": [],
   "source": [
    "rating_df = pd.read_csv('//home/kailash/Learning/Data Science/Projects/Movie Recommendation System/movielens dataset/ratings.csv')"
   ]
  },
  {
   "cell_type": "code",
   "execution_count": 5,
   "metadata": {},
   "outputs": [
    {
     "data": {
      "text/html": [
       "<div>\n",
       "<style scoped>\n",
       "    .dataframe tbody tr th:only-of-type {\n",
       "        vertical-align: middle;\n",
       "    }\n",
       "\n",
       "    .dataframe tbody tr th {\n",
       "        vertical-align: top;\n",
       "    }\n",
       "\n",
       "    .dataframe thead th {\n",
       "        text-align: right;\n",
       "    }\n",
       "</style>\n",
       "<table border=\"1\" class=\"dataframe\">\n",
       "  <thead>\n",
       "    <tr style=\"text-align: right;\">\n",
       "      <th></th>\n",
       "      <th>userId</th>\n",
       "      <th>movieId</th>\n",
       "      <th>rating</th>\n",
       "      <th>timestamp</th>\n",
       "    </tr>\n",
       "  </thead>\n",
       "  <tbody>\n",
       "    <tr>\n",
       "      <th>0</th>\n",
       "      <td>1</td>\n",
       "      <td>2</td>\n",
       "      <td>3.5</td>\n",
       "      <td>1112486027</td>\n",
       "    </tr>\n",
       "    <tr>\n",
       "      <th>1</th>\n",
       "      <td>1</td>\n",
       "      <td>29</td>\n",
       "      <td>3.5</td>\n",
       "      <td>1112484676</td>\n",
       "    </tr>\n",
       "    <tr>\n",
       "      <th>2</th>\n",
       "      <td>1</td>\n",
       "      <td>32</td>\n",
       "      <td>3.5</td>\n",
       "      <td>1112484819</td>\n",
       "    </tr>\n",
       "    <tr>\n",
       "      <th>3</th>\n",
       "      <td>1</td>\n",
       "      <td>47</td>\n",
       "      <td>3.5</td>\n",
       "      <td>1112484727</td>\n",
       "    </tr>\n",
       "    <tr>\n",
       "      <th>4</th>\n",
       "      <td>1</td>\n",
       "      <td>50</td>\n",
       "      <td>3.5</td>\n",
       "      <td>1112484580</td>\n",
       "    </tr>\n",
       "  </tbody>\n",
       "</table>\n",
       "</div>"
      ],
      "text/plain": [
       "   userId  movieId  rating   timestamp\n",
       "0       1        2     3.5  1112486027\n",
       "1       1       29     3.5  1112484676\n",
       "2       1       32     3.5  1112484819\n",
       "3       1       47     3.5  1112484727\n",
       "4       1       50     3.5  1112484580"
      ]
     },
     "execution_count": 5,
     "metadata": {},
     "output_type": "execute_result"
    }
   ],
   "source": [
    "rating_df.head()"
   ]
  },
  {
   "cell_type": "code",
   "execution_count": 6,
   "metadata": {},
   "outputs": [],
   "source": [
    "master_df = pd.merge(movies_df,rating_df,on='movieId')"
   ]
  },
  {
   "cell_type": "code",
   "execution_count": 7,
   "metadata": {},
   "outputs": [
    {
     "data": {
      "text/html": [
       "<div>\n",
       "<style scoped>\n",
       "    .dataframe tbody tr th:only-of-type {\n",
       "        vertical-align: middle;\n",
       "    }\n",
       "\n",
       "    .dataframe tbody tr th {\n",
       "        vertical-align: top;\n",
       "    }\n",
       "\n",
       "    .dataframe thead th {\n",
       "        text-align: right;\n",
       "    }\n",
       "</style>\n",
       "<table border=\"1\" class=\"dataframe\">\n",
       "  <thead>\n",
       "    <tr style=\"text-align: right;\">\n",
       "      <th></th>\n",
       "      <th>movieId</th>\n",
       "      <th>title</th>\n",
       "      <th>genres</th>\n",
       "      <th>userId</th>\n",
       "      <th>rating</th>\n",
       "      <th>timestamp</th>\n",
       "    </tr>\n",
       "  </thead>\n",
       "  <tbody>\n",
       "  </tbody>\n",
       "</table>\n",
       "</div>"
      ],
      "text/plain": [
       "Empty DataFrame\n",
       "Columns: [movieId, title, genres, userId, rating, timestamp]\n",
       "Index: []"
      ]
     },
     "execution_count": 7,
     "metadata": {},
     "output_type": "execute_result"
    }
   ],
   "source": [
    "master_df[master_df.duplicated()]"
   ]
  },
  {
   "cell_type": "code",
   "execution_count": 8,
   "metadata": {},
   "outputs": [
    {
     "data": {
      "text/plain": [
       "movieId      0\n",
       "title        0\n",
       "genres       0\n",
       "userId       0\n",
       "rating       0\n",
       "timestamp    0\n",
       "dtype: int64"
      ]
     },
     "execution_count": 8,
     "metadata": {},
     "output_type": "execute_result"
    }
   ],
   "source": [
    "master_df.isnull().sum()"
   ]
  },
  {
   "cell_type": "code",
   "execution_count": 9,
   "metadata": {},
   "outputs": [
    {
     "data": {
      "text/html": [
       "<div>\n",
       "<style scoped>\n",
       "    .dataframe tbody tr th:only-of-type {\n",
       "        vertical-align: middle;\n",
       "    }\n",
       "\n",
       "    .dataframe tbody tr th {\n",
       "        vertical-align: top;\n",
       "    }\n",
       "\n",
       "    .dataframe thead th {\n",
       "        text-align: right;\n",
       "    }\n",
       "</style>\n",
       "<table border=\"1\" class=\"dataframe\">\n",
       "  <thead>\n",
       "    <tr style=\"text-align: right;\">\n",
       "      <th></th>\n",
       "      <th>movieId</th>\n",
       "      <th>title</th>\n",
       "      <th>genres</th>\n",
       "      <th>userId</th>\n",
       "      <th>rating</th>\n",
       "      <th>timestamp</th>\n",
       "    </tr>\n",
       "  </thead>\n",
       "  <tbody>\n",
       "    <tr>\n",
       "      <th>0</th>\n",
       "      <td>1</td>\n",
       "      <td>Toy Story (1995)</td>\n",
       "      <td>Adventure|Animation|Children|Comedy|Fantasy</td>\n",
       "      <td>3</td>\n",
       "      <td>4.0</td>\n",
       "      <td>944919407</td>\n",
       "    </tr>\n",
       "    <tr>\n",
       "      <th>1</th>\n",
       "      <td>1</td>\n",
       "      <td>Toy Story (1995)</td>\n",
       "      <td>Adventure|Animation|Children|Comedy|Fantasy</td>\n",
       "      <td>6</td>\n",
       "      <td>5.0</td>\n",
       "      <td>858275452</td>\n",
       "    </tr>\n",
       "    <tr>\n",
       "      <th>2</th>\n",
       "      <td>1</td>\n",
       "      <td>Toy Story (1995)</td>\n",
       "      <td>Adventure|Animation|Children|Comedy|Fantasy</td>\n",
       "      <td>8</td>\n",
       "      <td>4.0</td>\n",
       "      <td>833981871</td>\n",
       "    </tr>\n",
       "    <tr>\n",
       "      <th>3</th>\n",
       "      <td>1</td>\n",
       "      <td>Toy Story (1995)</td>\n",
       "      <td>Adventure|Animation|Children|Comedy|Fantasy</td>\n",
       "      <td>10</td>\n",
       "      <td>4.0</td>\n",
       "      <td>943497887</td>\n",
       "    </tr>\n",
       "    <tr>\n",
       "      <th>4</th>\n",
       "      <td>1</td>\n",
       "      <td>Toy Story (1995)</td>\n",
       "      <td>Adventure|Animation|Children|Comedy|Fantasy</td>\n",
       "      <td>11</td>\n",
       "      <td>4.5</td>\n",
       "      <td>1230858821</td>\n",
       "    </tr>\n",
       "    <tr>\n",
       "      <th>5</th>\n",
       "      <td>1</td>\n",
       "      <td>Toy Story (1995)</td>\n",
       "      <td>Adventure|Animation|Children|Comedy|Fantasy</td>\n",
       "      <td>12</td>\n",
       "      <td>4.0</td>\n",
       "      <td>859063718</td>\n",
       "    </tr>\n",
       "    <tr>\n",
       "      <th>6</th>\n",
       "      <td>1</td>\n",
       "      <td>Toy Story (1995)</td>\n",
       "      <td>Adventure|Animation|Children|Comedy|Fantasy</td>\n",
       "      <td>13</td>\n",
       "      <td>4.0</td>\n",
       "      <td>849082891</td>\n",
       "    </tr>\n",
       "    <tr>\n",
       "      <th>7</th>\n",
       "      <td>1</td>\n",
       "      <td>Toy Story (1995)</td>\n",
       "      <td>Adventure|Animation|Children|Comedy|Fantasy</td>\n",
       "      <td>14</td>\n",
       "      <td>4.5</td>\n",
       "      <td>1225311239</td>\n",
       "    </tr>\n",
       "    <tr>\n",
       "      <th>8</th>\n",
       "      <td>1</td>\n",
       "      <td>Toy Story (1995)</td>\n",
       "      <td>Adventure|Animation|Children|Comedy|Fantasy</td>\n",
       "      <td>16</td>\n",
       "      <td>3.0</td>\n",
       "      <td>990969772</td>\n",
       "    </tr>\n",
       "    <tr>\n",
       "      <th>9</th>\n",
       "      <td>1</td>\n",
       "      <td>Toy Story (1995)</td>\n",
       "      <td>Adventure|Animation|Children|Comedy|Fantasy</td>\n",
       "      <td>19</td>\n",
       "      <td>5.0</td>\n",
       "      <td>855176628</td>\n",
       "    </tr>\n",
       "  </tbody>\n",
       "</table>\n",
       "</div>"
      ],
      "text/plain": [
       "   movieId             title                                       genres  \\\n",
       "0        1  Toy Story (1995)  Adventure|Animation|Children|Comedy|Fantasy   \n",
       "1        1  Toy Story (1995)  Adventure|Animation|Children|Comedy|Fantasy   \n",
       "2        1  Toy Story (1995)  Adventure|Animation|Children|Comedy|Fantasy   \n",
       "3        1  Toy Story (1995)  Adventure|Animation|Children|Comedy|Fantasy   \n",
       "4        1  Toy Story (1995)  Adventure|Animation|Children|Comedy|Fantasy   \n",
       "5        1  Toy Story (1995)  Adventure|Animation|Children|Comedy|Fantasy   \n",
       "6        1  Toy Story (1995)  Adventure|Animation|Children|Comedy|Fantasy   \n",
       "7        1  Toy Story (1995)  Adventure|Animation|Children|Comedy|Fantasy   \n",
       "8        1  Toy Story (1995)  Adventure|Animation|Children|Comedy|Fantasy   \n",
       "9        1  Toy Story (1995)  Adventure|Animation|Children|Comedy|Fantasy   \n",
       "\n",
       "   userId  rating   timestamp  \n",
       "0       3     4.0   944919407  \n",
       "1       6     5.0   858275452  \n",
       "2       8     4.0   833981871  \n",
       "3      10     4.0   943497887  \n",
       "4      11     4.5  1230858821  \n",
       "5      12     4.0   859063718  \n",
       "6      13     4.0   849082891  \n",
       "7      14     4.5  1225311239  \n",
       "8      16     3.0   990969772  \n",
       "9      19     5.0   855176628  "
      ]
     },
     "execution_count": 9,
     "metadata": {},
     "output_type": "execute_result"
    }
   ],
   "source": [
    "master_df.head(10)"
   ]
  },
  {
   "cell_type": "code",
   "execution_count": 13,
   "metadata": {},
   "outputs": [],
   "source": [
    "movies_df = movies_df.merge(pd.DataFrame(movies_count), left_on='title', right_index=True).reset_index()\n"
   ]
  },
  {
   "cell_type": "code",
   "execution_count": 14,
   "metadata": {},
   "outputs": [],
   "source": [
    "movies_df.columns = [\"index\", \"movieId\", \"title\", \"genres\", \"review counts\"]"
   ]
  },
  {
   "cell_type": "code",
   "execution_count": 15,
   "metadata": {},
   "outputs": [
    {
     "data": {
      "text/html": [
       "<div>\n",
       "<style scoped>\n",
       "    .dataframe tbody tr th:only-of-type {\n",
       "        vertical-align: middle;\n",
       "    }\n",
       "\n",
       "    .dataframe tbody tr th {\n",
       "        vertical-align: top;\n",
       "    }\n",
       "\n",
       "    .dataframe thead th {\n",
       "        text-align: right;\n",
       "    }\n",
       "</style>\n",
       "<table border=\"1\" class=\"dataframe\">\n",
       "  <thead>\n",
       "    <tr style=\"text-align: right;\">\n",
       "      <th></th>\n",
       "      <th>index</th>\n",
       "      <th>movieId</th>\n",
       "      <th>title</th>\n",
       "      <th>genres</th>\n",
       "      <th>review counts</th>\n",
       "    </tr>\n",
       "  </thead>\n",
       "  <tbody>\n",
       "    <tr>\n",
       "      <th>0</th>\n",
       "      <td>0</td>\n",
       "      <td>1</td>\n",
       "      <td>Toy Story (1995)</td>\n",
       "      <td>Adventure|Animation|Children|Comedy|Fantasy</td>\n",
       "      <td>49695</td>\n",
       "    </tr>\n",
       "    <tr>\n",
       "      <th>1</th>\n",
       "      <td>1</td>\n",
       "      <td>2</td>\n",
       "      <td>Jumanji (1995)</td>\n",
       "      <td>Adventure|Children|Fantasy</td>\n",
       "      <td>22243</td>\n",
       "    </tr>\n",
       "    <tr>\n",
       "      <th>2</th>\n",
       "      <td>2</td>\n",
       "      <td>3</td>\n",
       "      <td>Grumpier Old Men (1995)</td>\n",
       "      <td>Comedy|Romance</td>\n",
       "      <td>12735</td>\n",
       "    </tr>\n",
       "    <tr>\n",
       "      <th>3</th>\n",
       "      <td>3</td>\n",
       "      <td>4</td>\n",
       "      <td>Waiting to Exhale (1995)</td>\n",
       "      <td>Comedy|Drama|Romance</td>\n",
       "      <td>2756</td>\n",
       "    </tr>\n",
       "    <tr>\n",
       "      <th>4</th>\n",
       "      <td>4</td>\n",
       "      <td>5</td>\n",
       "      <td>Father of the Bride Part II (1995)</td>\n",
       "      <td>Comedy</td>\n",
       "      <td>12161</td>\n",
       "    </tr>\n",
       "  </tbody>\n",
       "</table>\n",
       "</div>"
      ],
      "text/plain": [
       "   index  movieId                               title  \\\n",
       "0      0        1                    Toy Story (1995)   \n",
       "1      1        2                      Jumanji (1995)   \n",
       "2      2        3             Grumpier Old Men (1995)   \n",
       "3      3        4            Waiting to Exhale (1995)   \n",
       "4      4        5  Father of the Bride Part II (1995)   \n",
       "\n",
       "                                        genres  review counts  \n",
       "0  Adventure|Animation|Children|Comedy|Fantasy          49695  \n",
       "1                   Adventure|Children|Fantasy          22243  \n",
       "2                               Comedy|Romance          12735  \n",
       "3                         Comedy|Drama|Romance           2756  \n",
       "4                                       Comedy          12161  "
      ]
     },
     "execution_count": 15,
     "metadata": {},
     "output_type": "execute_result"
    }
   ],
   "source": [
    "movies_df.head()"
   ]
  },
  {
   "cell_type": "code",
   "execution_count": 19,
   "metadata": {},
   "outputs": [],
   "source": [
    "# Break up the big genre string into a string array\n",
    "movies_df['genres'] = movies_df['genres'].str.split('|')\n",
    "# Convert genres to string value\n",
    "movies_df['genres'] = movies_df['genres'].fillna(\"\").astype('str')\n",
    "\n"
   ]
  },
  {
   "cell_type": "code",
   "execution_count": 20,
   "metadata": {},
   "outputs": [],
   "source": [
    "from sklearn.feature_extraction.text import TfidfVectorizer\n"
   ]
  },
  {
   "cell_type": "code",
   "execution_count": 81,
   "metadata": {},
   "outputs": [
    {
     "data": {
      "text/html": [
       "<div>\n",
       "<style scoped>\n",
       "    .dataframe tbody tr th:only-of-type {\n",
       "        vertical-align: middle;\n",
       "    }\n",
       "\n",
       "    .dataframe tbody tr th {\n",
       "        vertical-align: top;\n",
       "    }\n",
       "\n",
       "    .dataframe thead th {\n",
       "        text-align: right;\n",
       "    }\n",
       "</style>\n",
       "<table border=\"1\" class=\"dataframe\">\n",
       "  <thead>\n",
       "    <tr style=\"text-align: right;\">\n",
       "      <th></th>\n",
       "      <th>index</th>\n",
       "      <th>movieId</th>\n",
       "      <th>title</th>\n",
       "      <th>genres</th>\n",
       "      <th>review counts</th>\n",
       "    </tr>\n",
       "  </thead>\n",
       "  <tbody>\n",
       "    <tr>\n",
       "      <th>0</th>\n",
       "      <td>0</td>\n",
       "      <td>1</td>\n",
       "      <td>Toy Story (1995)</td>\n",
       "      <td>['Adventure', 'Animation', 'Children', 'Comedy...</td>\n",
       "      <td>49695</td>\n",
       "    </tr>\n",
       "    <tr>\n",
       "      <th>1</th>\n",
       "      <td>1</td>\n",
       "      <td>2</td>\n",
       "      <td>Jumanji (1995)</td>\n",
       "      <td>['Adventure', 'Children', 'Fantasy']</td>\n",
       "      <td>22243</td>\n",
       "    </tr>\n",
       "    <tr>\n",
       "      <th>2</th>\n",
       "      <td>2</td>\n",
       "      <td>3</td>\n",
       "      <td>Grumpier Old Men (1995)</td>\n",
       "      <td>['Comedy', 'Romance']</td>\n",
       "      <td>12735</td>\n",
       "    </tr>\n",
       "    <tr>\n",
       "      <th>3</th>\n",
       "      <td>3</td>\n",
       "      <td>4</td>\n",
       "      <td>Waiting to Exhale (1995)</td>\n",
       "      <td>['Comedy', 'Drama', 'Romance']</td>\n",
       "      <td>2756</td>\n",
       "    </tr>\n",
       "    <tr>\n",
       "      <th>4</th>\n",
       "      <td>4</td>\n",
       "      <td>5</td>\n",
       "      <td>Father of the Bride Part II (1995)</td>\n",
       "      <td>['Comedy']</td>\n",
       "      <td>12161</td>\n",
       "    </tr>\n",
       "  </tbody>\n",
       "</table>\n",
       "</div>"
      ],
      "text/plain": [
       "   index  movieId                               title  \\\n",
       "0      0        1                    Toy Story (1995)   \n",
       "1      1        2                      Jumanji (1995)   \n",
       "2      2        3             Grumpier Old Men (1995)   \n",
       "3      3        4            Waiting to Exhale (1995)   \n",
       "4      4        5  Father of the Bride Part II (1995)   \n",
       "\n",
       "                                              genres  review counts  \n",
       "0  ['Adventure', 'Animation', 'Children', 'Comedy...          49695  \n",
       "1               ['Adventure', 'Children', 'Fantasy']          22243  \n",
       "2                              ['Comedy', 'Romance']          12735  \n",
       "3                     ['Comedy', 'Drama', 'Romance']           2756  \n",
       "4                                         ['Comedy']          12161  "
      ]
     },
     "execution_count": 81,
     "metadata": {},
     "output_type": "execute_result"
    }
   ],
   "source": [
    "movies_df.head(5)"
   ]
  },
  {
   "cell_type": "code",
   "execution_count": 22,
   "metadata": {},
   "outputs": [],
   "source": [
    "tf = TfidfVectorizer(analyzer='word',ngram_range=(1, 2),min_df=0, stop_words='english')\n"
   ]
  },
  {
   "cell_type": "code",
   "execution_count": 23,
   "metadata": {},
   "outputs": [],
   "source": [
    "tfidf_matrix = tf.fit_transform(movies_df[\"genres\"])"
   ]
  },
  {
   "cell_type": "code",
   "execution_count": 24,
   "metadata": {},
   "outputs": [
    {
     "data": {
      "text/plain": [
       "(26745, 189)"
      ]
     },
     "execution_count": 24,
     "metadata": {},
     "output_type": "execute_result"
    }
   ],
   "source": [
    "tfidf_matrix.shape"
   ]
  },
  {
   "cell_type": "code",
   "execution_count": 80,
   "metadata": {},
   "outputs": [
    {
     "data": {
      "text/plain": [
       "{'adventure': 19,\n",
       " 'animation': 37,\n",
       " 'children': 51,\n",
       " 'comedy': 65,\n",
       " 'fantasy': 118,\n",
       " 'adventure animation': 20,\n",
       " 'animation children': 38,\n",
       " 'children comedy': 52,\n",
       " 'comedy fantasy': 69,\n",
       " 'adventure children': 21,\n",
       " 'children fantasy': 56,\n",
       " 'romance': 172,\n",
       " 'comedy romance': 75,\n",
       " 'drama': 106,\n",
       " 'comedy drama': 68,\n",
       " 'drama romance': 113,\n",
       " 'action': 0,\n",
       " 'crime': 80,\n",
       " 'thriller': 180,\n",
       " 'action crime': 5,\n",
       " 'crime thriller': 91,\n",
       " 'action adventure': 1,\n",
       " 'adventure thriller': 34,\n",
       " 'horror': 138,\n",
       " 'comedy horror': 71,\n",
       " 'adventure romance': 32,\n",
       " 'crime drama': 82,\n",
       " 'action comedy': 4,\n",
       " 'comedy crime': 66,\n",
       " 'drama thriller': 115,\n",
       " 'mystery': 157,\n",
       " 'drama horror': 109,\n",
       " 'horror mystery': 141,\n",
       " 'mystery thriller': 161,\n",
       " 'sci': 178,\n",
       " 'fi': 129,\n",
       " 'drama sci': 114,\n",
       " 'sci fi': 179,\n",
       " 'children drama': 55,\n",
       " 'adventure drama': 25,\n",
       " 'drama fantasy': 107,\n",
       " 'fantasy mystery': 123,\n",
       " 'mystery sci': 160,\n",
       " 'fi thriller': 131,\n",
       " 'imax': 147,\n",
       " 'romance imax': 173,\n",
       " 'documentary': 94,\n",
       " 'documentary imax': 98,\n",
       " 'war': 184,\n",
       " 'drama war': 116,\n",
       " 'adventure fantasy': 26,\n",
       " 'musical': 149,\n",
       " 'drama musical': 111,\n",
       " 'musical romance': 152,\n",
       " 'crime mystery': 88,\n",
       " 'action drama': 7,\n",
       " 'drama mystery': 112,\n",
       " 'action sci': 15,\n",
       " 'horror thriller': 144,\n",
       " 'action thriller': 16,\n",
       " 'horror romance': 142,\n",
       " 'adventure comedy': 22,\n",
       " 'crime romance': 89,\n",
       " 'comedy musical': 73,\n",
       " 'mystery romance': 159,\n",
       " 'drama imax': 110,\n",
       " 'romance war': 176,\n",
       " 'comedy war': 78,\n",
       " 'adventure mystery': 31,\n",
       " 'thriller war': 182,\n",
       " 'western': 187,\n",
       " 'action romance': 14,\n",
       " 'romance western': 177,\n",
       " 'film': 134,\n",
       " 'noir': 164,\n",
       " 'crime film': 84,\n",
       " 'film noir': 135,\n",
       " 'noir mystery': 167,\n",
       " 'adventure crime': 23,\n",
       " 'crime sci': 90,\n",
       " 'action children': 3,\n",
       " 'fantasy horror': 120,\n",
       " 'horror sci': 143,\n",
       " 'adventure sci': 33,\n",
       " 'comedy sci': 76,\n",
       " 'fantasy romance': 124,\n",
       " 'war western': 186,\n",
       " 'thriller western': 183,\n",
       " 'noir thriller': 170,\n",
       " 'crime horror': 85,\n",
       " 'drama film': 108,\n",
       " 'noir romance': 168,\n",
       " 'crime fantasy': 83,\n",
       " 'fantasy thriller': 126,\n",
       " 'children romance': 61,\n",
       " 'musical imax': 150,\n",
       " 'comedy western': 79,\n",
       " 'romance thriller': 175,\n",
       " 'action fantasy': 8,\n",
       " 'comedy documentary': 67,\n",
       " 'comedy thriller': 77,\n",
       " 'adventure documentary': 24,\n",
       " 'drama western': 117,\n",
       " 'comedy mystery': 74,\n",
       " 'fantasy sci': 125,\n",
       " 'action mystery': 13,\n",
       " 'fantasy musical': 122,\n",
       " 'adventure western': 36,\n",
       " 'animation horror': 45,\n",
       " 'action horror': 10,\n",
       " 'romance sci': 174,\n",
       " 'documentary drama': 95,\n",
       " 'mystery western': 163,\n",
       " 'animation comedy': 39,\n",
       " 'animation sci': 49,\n",
       " 'documentary romance': 101,\n",
       " 'musical thriller': 154,\n",
       " 'children musical': 59,\n",
       " 'adventure horror': 28,\n",
       " 'documentary musical': 99,\n",
       " 'musical war': 155,\n",
       " 'action western': 18,\n",
       " 'fantasy film': 119,\n",
       " 'adventure film': 27,\n",
       " 'noir sci': 169,\n",
       " 'fantasy war': 127,\n",
       " 'fi western': 133,\n",
       " 'children sci': 62,\n",
       " 'action animation': 2,\n",
       " 'children crime': 53,\n",
       " 'fantasy western': 128,\n",
       " 'musical western': 156,\n",
       " 'fi war': 132,\n",
       " 'horror western': 146,\n",
       " 'animation musical': 46,\n",
       " 'action war': 17,\n",
       " 'comedy film': 70,\n",
       " 'horror musical': 140,\n",
       " 'musical sci': 153,\n",
       " 'animation drama': 42,\n",
       " 'noir horror': 165,\n",
       " 'adventure war': 35,\n",
       " 'adventure musical': 30,\n",
       " 'animation fantasy': 43,\n",
       " 'fi imax': 130,\n",
       " 'horror imax': 139,\n",
       " 'musical mystery': 151,\n",
       " 'crime musical': 87,\n",
       " 'documentary war': 104,\n",
       " 'children horror': 57,\n",
       " 'children western': 64,\n",
       " 'documentary horror': 97,\n",
       " 'children mystery': 60,\n",
       " 'thriller imax': 181,\n",
       " 'crime documentary': 81,\n",
       " 'mystery war': 162,\n",
       " 'noir musical': 166,\n",
       " 'crime western': 93,\n",
       " 'fantasy imax': 121,\n",
       " 'horror war': 145,\n",
       " 'action film': 9,\n",
       " 'animation crime': 40,\n",
       " 'animation mystery': 47,\n",
       " 'action documentary': 6,\n",
       " 'animation documentary': 41,\n",
       " 'documentary mystery': 100,\n",
       " 'children documentary': 54,\n",
       " 'crime imax': 86,\n",
       " 'documentary sci': 102,\n",
       " 'noir war': 171,\n",
       " 'animation film': 44,\n",
       " 'comedy imax': 72,\n",
       " 'war imax': 185,\n",
       " 'children war': 63,\n",
       " 'animation war': 50,\n",
       " 'documentary fantasy': 96,\n",
       " 'children imax': 58,\n",
       " 'documentary thriller': 103,\n",
       " 'documentary western': 105,\n",
       " 'action musical': 12,\n",
       " 'western imax': 188,\n",
       " 'genres': 136,\n",
       " 'listed': 148,\n",
       " 'genres listed': 137,\n",
       " 'mystery imax': 158,\n",
       " 'adventure imax': 29,\n",
       " 'crime war': 92,\n",
       " 'action imax': 11,\n",
       " 'animation romance': 48}"
      ]
     },
     "execution_count": 80,
     "metadata": {},
     "output_type": "execute_result"
    }
   ],
   "source": [
    "tf.vocabulary_"
   ]
  },
  {
   "cell_type": "code",
   "execution_count": 52,
   "metadata": {},
   "outputs": [],
   "source": [
    "from sklearn.metrics.pairwise import linear_kernel\n",
    "cosine_similarity = linear_kernel(tfidf_matrix, tfidf_matrix)"
   ]
  },
  {
   "cell_type": "code",
   "execution_count": 28,
   "metadata": {},
   "outputs": [
    {
     "data": {
      "text/plain": [
       "(26745, 189)"
      ]
     },
     "execution_count": 28,
     "metadata": {},
     "output_type": "execute_result"
    }
   ],
   "source": [
    "cosine_similarity.shape"
   ]
  },
  {
   "cell_type": "code",
   "execution_count": 29,
   "metadata": {},
   "outputs": [],
   "source": [
    "titles = movies_df[\"title\"]"
   ]
  },
  {
   "cell_type": "code",
   "execution_count": 67,
   "metadata": {},
   "outputs": [],
   "source": [
    "indices = pd.Series(movies_df.index, index=movies_df['title'])"
   ]
  },
  {
   "cell_type": "code",
   "execution_count": 68,
   "metadata": {},
   "outputs": [
    {
     "data": {
      "text/plain": [
       "title\n",
       "Toy Story (1995)                      0\n",
       "Jumanji (1995)                        1\n",
       "Grumpier Old Men (1995)               2\n",
       "Waiting to Exhale (1995)              3\n",
       "Father of the Bride Part II (1995)    4\n",
       "dtype: int64"
      ]
     },
     "execution_count": 68,
     "metadata": {},
     "output_type": "execute_result"
    }
   ],
   "source": [
    "indices.head()"
   ]
  },
  {
   "cell_type": "code",
   "execution_count": 98,
   "metadata": {},
   "outputs": [],
   "source": [
    "def movie_recommend(title):\n",
    "    idx = indices[title]\n",
    "    similar_scores = list(enumerate(cosine_similarity[idx]))\n",
    "    similar_scores = sorted(similar_scores, key=lambda x: x[1], reverse=True)\n",
    "    similar_scores = similar_scores[1:21]\n",
    "    movie_indices = [i[0] for i in similar_scores]\n",
    "    return titles.iloc[movie_indices]\n",
    "\n"
   ]
  },
  {
   "cell_type": "code",
   "execution_count": 99,
   "metadata": {},
   "outputs": [
    {
     "data": {
      "text/plain": [
       "24                            Leaving Las Vegas (1995)\n",
       "27                                   Persuasion (1995)\n",
       "34                                   Carrington (1995)\n",
       "45                How to Make an American Quilt (1995)\n",
       "48                        When Night Is Falling (1995)\n",
       "73                                 Bed of Roses (1996)\n",
       "82     Once Upon a Time... When We Were Colored (1995)\n",
       "84                           Angels and Insects (1995)\n",
       "103              Bridges of Madison County, The (1995)\n",
       "129                           Frankie Starlight (1995)\n",
       "138                       Up Close and Personal (1996)\n",
       "177                                    Mad Love (1995)\n",
       "180                     Moonlight and Valentino (1995)\n",
       "189                         Scarlet Letter, The (1995)\n",
       "200                               Total Eclipse (1995)\n",
       "205                       Walk in the Clouds, A (1995)\n",
       "213                              Before Sunrise (1995)\n",
       "219                           Circle of Friends (1995)\n",
       "246                            Immortal Beloved (1994)\n",
       "267                                 Love Affair (1994)\n",
       "Name: title, dtype: object"
      ]
     },
     "execution_count": 99,
     "metadata": {},
     "output_type": "execute_result"
    }
   ],
   "source": [
    "movie_recommend('Titanic (1997)').head(20)\n"
   ]
  },
  {
   "cell_type": "code",
   "execution_count": 100,
   "metadata": {},
   "outputs": [
    {
     "data": {
      "text/plain": [
       "22                                       Assassins (1995)\n",
       "163                     Die Hard: With a Vengeance (1995)\n",
       "183                                       Net, The (1995)\n",
       "285                           Natural Born Killers (1994)\n",
       "475                                 Judgment Night (1993)\n",
       "587                                         Batman (1989)\n",
       "1019                                      Die Hard (1988)\n",
       "1689                                     Hard Rain (1998)\n",
       "1702                      Replacement Killers, The (1998)\n",
       "1722                                 U.S. Marshals (1998)\n",
       "1872                        French Connection, The (1971)\n",
       "2196                                         Ronin (1998)\n",
       "2658                                      No Mercy (1986)\n",
       "2873                      Someone to Watch Over Me (1987)\n",
       "3657                                         Shaft (2000)\n",
       "3676                                           F/X (1986)\n",
       "3677    F/X2 (a.k.a. F/X 2 - The Deadly Art of Illusio...\n",
       "3974                                         Coffy (1973)\n",
       "4260                                   Point Break (1991)\n",
       "4278                     Fast and the Furious, The (2001)\n",
       "Name: title, dtype: object"
      ]
     },
     "execution_count": 100,
     "metadata": {},
     "output_type": "execute_result"
    }
   ],
   "source": [
    "movie_recommend('Fast and the Furious, The (2001)').head(20)\n"
   ]
  },
  {
   "cell_type": "code",
   "execution_count": 101,
   "metadata": {},
   "outputs": [
    {
     "data": {
      "text/plain": [
       "75              Screamers (1995)\n",
       "170       Johnny Mnemonic (1995)\n",
       "283     Nemesis 2: Nebula (1995)\n",
       "334            Virtuosity (1995)\n",
       "375               Timecop (1994)\n",
       "537          Blade Runner (1982)\n",
       "681                  Solo (1996)\n",
       "736          Arrival, The (1996)\n",
       "1214      Terminator, The (1984)\n",
       "1801             Godzilla (1998)\n",
       "2489          Matrix, The (1999)\n",
       "2518             eXistenZ (1999)\n",
       "3440             Predator (1987)\n",
       "3610           Predator 2 (1990)\n",
       "3891           Red Planet (2000)\n",
       "3896         6th Day, The (2000)\n",
       "4352              Outland (1981)\n",
       "4462            They Live (1988)\n",
       "4795             One, The (2001)\n",
       "5089            Hangar 18 (1980)\n",
       "Name: title, dtype: object"
      ]
     },
     "execution_count": 101,
     "metadata": {},
     "output_type": "execute_result"
    }
   ],
   "source": [
    "movie_recommend('Matrix, The (1999)').head(20)"
   ]
  },
  {
   "cell_type": "code",
   "execution_count": 105,
   "metadata": {},
   "outputs": [
    {
     "data": {
      "text/html": [
       "<div>\n",
       "<style scoped>\n",
       "    .dataframe tbody tr th:only-of-type {\n",
       "        vertical-align: middle;\n",
       "    }\n",
       "\n",
       "    .dataframe tbody tr th {\n",
       "        vertical-align: top;\n",
       "    }\n",
       "\n",
       "    .dataframe thead th {\n",
       "        text-align: right;\n",
       "    }\n",
       "</style>\n",
       "<table border=\"1\" class=\"dataframe\">\n",
       "  <thead>\n",
       "    <tr style=\"text-align: right;\">\n",
       "      <th></th>\n",
       "      <th>movieId</th>\n",
       "      <th>title</th>\n",
       "      <th>genres</th>\n",
       "      <th>userId</th>\n",
       "      <th>rating</th>\n",
       "      <th>timestamp</th>\n",
       "    </tr>\n",
       "  </thead>\n",
       "  <tbody>\n",
       "    <tr>\n",
       "      <th>19445480</th>\n",
       "      <td>73881</td>\n",
       "      <td>3 Idiots (2009)</td>\n",
       "      <td>Comedy|Drama|Romance</td>\n",
       "      <td>176</td>\n",
       "      <td>5.0</td>\n",
       "      <td>1426774606</td>\n",
       "    </tr>\n",
       "    <tr>\n",
       "      <th>19445481</th>\n",
       "      <td>73881</td>\n",
       "      <td>3 Idiots (2009)</td>\n",
       "      <td>Comedy|Drama|Romance</td>\n",
       "      <td>337</td>\n",
       "      <td>4.5</td>\n",
       "      <td>1281212749</td>\n",
       "    </tr>\n",
       "    <tr>\n",
       "      <th>19445482</th>\n",
       "      <td>73881</td>\n",
       "      <td>3 Idiots (2009)</td>\n",
       "      <td>Comedy|Drama|Romance</td>\n",
       "      <td>348</td>\n",
       "      <td>4.5</td>\n",
       "      <td>1314585066</td>\n",
       "    </tr>\n",
       "    <tr>\n",
       "      <th>19445483</th>\n",
       "      <td>73881</td>\n",
       "      <td>3 Idiots (2009)</td>\n",
       "      <td>Comedy|Drama|Romance</td>\n",
       "      <td>786</td>\n",
       "      <td>3.5</td>\n",
       "      <td>1421289874</td>\n",
       "    </tr>\n",
       "    <tr>\n",
       "      <th>19445484</th>\n",
       "      <td>73881</td>\n",
       "      <td>3 Idiots (2009)</td>\n",
       "      <td>Comedy|Drama|Romance</td>\n",
       "      <td>843</td>\n",
       "      <td>0.5</td>\n",
       "      <td>1422134441</td>\n",
       "    </tr>\n",
       "  </tbody>\n",
       "</table>\n",
       "</div>"
      ],
      "text/plain": [
       "          movieId            title                genres  userId  rating  \\\n",
       "19445480    73881  3 Idiots (2009)  Comedy|Drama|Romance     176     5.0   \n",
       "19445481    73881  3 Idiots (2009)  Comedy|Drama|Romance     337     4.5   \n",
       "19445482    73881  3 Idiots (2009)  Comedy|Drama|Romance     348     4.5   \n",
       "19445483    73881  3 Idiots (2009)  Comedy|Drama|Romance     786     3.5   \n",
       "19445484    73881  3 Idiots (2009)  Comedy|Drama|Romance     843     0.5   \n",
       "\n",
       "           timestamp  \n",
       "19445480  1426774606  \n",
       "19445481  1281212749  \n",
       "19445482  1314585066  \n",
       "19445483  1421289874  \n",
       "19445484  1422134441  "
      ]
     },
     "execution_count": 105,
     "metadata": {},
     "output_type": "execute_result"
    }
   ],
   "source": [
    "master_df[master_df[\"title\"].str.contains(\"3 Idiots\")].head()"
   ]
  },
  {
   "cell_type": "code",
   "execution_count": 104,
   "metadata": {},
   "outputs": [
    {
     "data": {
      "text/plain": [
       "10                  American President, The (1995)\n",
       "51                         Mighty Aphrodite (1995)\n",
       "57               Postman, The (Postino, Il) (1994)\n",
       "92                          Beautiful Girls (1996)\n",
       "193                 Something to Talk About (1995)\n",
       "221                        Don Juan DeMarco (1995)\n",
       "229    Eat Drink Man Woman (Yin shi nan nu) (1994)\n",
       "278                           Nobody's Fool (1994)\n",
       "347                        Corrina, Corrina (1994)\n",
       "355                     I Like It Like That (1994)\n",
       "357                  It Could Happen to You (1994)\n",
       "368                           Reality Bites (1994)\n",
       "535                    Sleepless in Seattle (1993)\n",
       "538                              Son in Law (1993)\n",
       "741                    Month by the Lake, A (1995)\n",
       "791                     Walking and Talking (1996)\n",
       "824                                    Emma (1996)\n",
       "839                                 Tin Cup (1996)\n",
       "877                           Twelfth Night (1996)\n",
       "883                 Philadelphia Story, The (1940)\n",
       "Name: title, dtype: object"
      ]
     },
     "execution_count": 104,
     "metadata": {},
     "output_type": "execute_result"
    }
   ],
   "source": [
    "movie_recommend(\"3 Idiots (2009)\")"
   ]
  },
  {
   "cell_type": "code",
   "execution_count": null,
   "metadata": {},
   "outputs": [],
   "source": []
  }
 ],
 "metadata": {
  "kernelspec": {
   "display_name": "Python 3",
   "language": "python",
   "name": "python3"
  },
  "language_info": {
   "codemirror_mode": {
    "name": "ipython",
    "version": 3
   },
   "file_extension": ".py",
   "mimetype": "text/x-python",
   "name": "python",
   "nbconvert_exporter": "python",
   "pygments_lexer": "ipython3",
   "version": "3.7.4"
  }
 },
 "nbformat": 4,
 "nbformat_minor": 2
}
